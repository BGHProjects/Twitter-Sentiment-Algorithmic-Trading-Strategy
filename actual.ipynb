{
 "cells": [
  {
   "cell_type": "markdown",
   "metadata": {},
   "source": [
    "# Twitter Sentiment Algorithmic Trading Strategy\n",
    "- The following represents an algorithmic trading strategy that involves analysing the sentiment of Twitter content regarding various NASDAQ stocks in order to determine an optimal portfolio\n",
    "- This notebook does not constitude financial advice, and is merely the educational exploration of the fields of algorithmic trading and machine learning\n",
    "- The code contains very minor refactoring, but is majoritively based off of [this notebook](https://github.com/Luchkata/Algorithmic_Trading_Machine_Learning/blob/main/Algorithmic_Trading_Machine_Learning_Quant_Strategies.ipynb) from [this tutorial](https://www.youtube.com/watch?v=9Y3yaoi9rUQ)"
   ]
  },
  {
   "cell_type": "code",
   "execution_count": null,
   "metadata": {},
   "outputs": [],
   "source": [
    "import pandas as pd\n",
    "import numpy as np\n",
    "import matplotlib.pyplot as plt\n",
    "import matplotlib.ticker as mtick\n",
    "import yfinance as yf\n",
    "import os"
   ]
  },
  {
   "cell_type": "markdown",
   "metadata": {},
   "source": [
    "## 1. Load Twitter Sentiment Data"
   ]
  },
  {
   "cell_type": "code",
   "execution_count": null,
   "metadata": {},
   "outputs": [],
   "source": [
    "# Load the twitter sentiment dataset\n",
    "# Set the index\n",
    "# Calculate the engagement ratio (comments / likes)\n",
    "# Filter out stocks with no significant Twitter activity ( <=20 likes and <=10 coments)\n",
    "\n",
    "plt.style.use('ggplot')\n",
    "\n",
    "data_folder = 'C:/Users/user/Desktop/Python Scripts'\n",
    "\n",
    "sentiment_df = pd.read_csv(os.path.join(data_folder, 'sentiment_data.csv'))\n",
    "\n",
    "sentiment_df['date'] = pd.to_datetime(sentiment_df['date'])\n",
    "\n",
    "sentiment_df = sentiment_df.set_index(['date', 'symbol'])\n",
    "\n",
    "sentiment_df['engagement_ratio'] = sentiment_df['twitterComments']/sentiment_df['twitterLikes']\n",
    "\n",
    "sentiment_df = sentiment_df[(sentiment_df['twitterLikes']>20)&(sentiment_df['twitterComments']>10)]\n"
   ]
  },
  {
   "cell_type": "markdown",
   "metadata": {},
   "source": [
    "## 2. Aggregate Monthly and calculate average sentiment for the month"
   ]
  },
  {
   "cell_type": "code",
   "execution_count": null,
   "metadata": {},
   "outputs": [],
   "source": [
    "# For the stock chosen, aggregate on a monthly level and calculate its average monthly metrics\n",
    "\n",
    "aggragated_df = (sentiment_df.reset_index('symbol').groupby([pd.Grouper(freq='M'), 'symbol'])\n",
    "                    [['engagement_ratio']].mean())\n",
    "\n",
    "aggragated_df['rank'] = (aggragated_df.groupby(level=0)['engagement_ratio']\n",
    "                         .transform(lambda x: x.rank(ascending=False)))"
   ]
  },
  {
   "cell_type": "markdown",
   "metadata": {},
   "source": [
    "## 3. Select Top 5 Stocks based on their cross-sectional ranking for each month"
   ]
  },
  {
   "cell_type": "code",
   "execution_count": null,
   "metadata": {},
   "outputs": [],
   "source": [
    "filtered_df = aggragated_df[aggragated_df['rank']<6].copy()\n",
    "\n",
    "filtered_df = filtered_df.reset_index(level=1)\n",
    "\n",
    "filtered_df.index = filtered_df.index+pd.DateOffset(1)\n",
    "\n",
    "filtered_df = filtered_df.reset_index().set_index(['date', 'symbol'])\n",
    "\n",
    "filtered_df.head(20)"
   ]
  },
  {
   "cell_type": "markdown",
   "metadata": {},
   "source": [
    "## 4. Extract the stocks to form portfolios with at the start of each new month"
   ]
  },
  {
   "cell_type": "code",
   "execution_count": null,
   "metadata": {},
   "outputs": [],
   "source": [
    "dates = filtered_df.index.get_level_values('date').unique().tolist()\n",
    "\n",
    "fixed_dates = {}\n",
    "\n",
    "for d in dates:\n",
    "    \n",
    "    fixed_dates[d.strftime('%Y-%m-%d')] = filtered_df.xs(d, level=0).index.tolist()"
   ]
  },
  {
   "cell_type": "markdown",
   "metadata": {},
   "source": [
    "## 5. Download fresh stock prices for only selected/shortlisted stocks"
   ]
  },
  {
   "cell_type": "code",
   "execution_count": null,
   "metadata": {},
   "outputs": [],
   "source": [
    "stocks_list = sentiment_df.index.get_level_values('symbol').unique().tolist()\n",
    "\n",
    "prices_df = yf.download(tickers=stocks_list,\n",
    "                        start='2021-01-01',\n",
    "                        end='2023-03-01')"
   ]
  },
  {
   "cell_type": "markdown",
   "metadata": {},
   "source": [
    "## 6. Calculate Portfolio Returns with monthly rebalancing"
   ]
  },
  {
   "cell_type": "code",
   "execution_count": null,
   "metadata": {},
   "outputs": [],
   "source": [
    "returns_df = np.log(prices_df['Adj Close']).diff().dropna()\n",
    "\n",
    "portfolio_df = pd.DataFrame()\n",
    "\n",
    "for start_date in fixed_dates.keys():\n",
    "    \n",
    "    end_date = (pd.to_datetime(start_date)+pd.offsets.MonthEnd()).strftime('%Y-%m-%d')\n",
    "    \n",
    "    cols = fixed_dates[start_date]\n",
    "    \n",
    "    temp_df = returns_df[start_date:end_date][cols].mean(axis=1).to_frame('portfolio_return')\n",
    "    \n",
    "    portfolio_df = pd.concat([portfolio_df, temp_df], axis=0)"
   ]
  },
  {
   "cell_type": "markdown",
   "metadata": {},
   "source": [
    "## 7. Download NASDAQ/QQQ prices and calculate returns to compare to our strategy"
   ]
  },
  {
   "cell_type": "code",
   "execution_count": null,
   "metadata": {},
   "outputs": [],
   "source": [
    "qqq_df = yf.download(tickers='QQQ',\n",
    "                     start='2021-01-01',\n",
    "                     end='2023-03-01')\n",
    "\n",
    "qqq_ret = np.log(qqq_df['Adj Close']).diff().to_frame('nasdaq_return')\n",
    "\n",
    "portfolio_df = portfolio_df.merge(qqq_ret,\n",
    "                                  left_index=True,\n",
    "                                  right_index=True)"
   ]
  },
  {
   "cell_type": "code",
   "execution_count": null,
   "metadata": {},
   "outputs": [],
   "source": [
    "portfolios_cumulative_return = np.exp(np.log1p(portfolio_df).cumsum()).sub(1)\n",
    "\n",
    "portfolios_cumulative_return.plot(figsize=(16,6))\n",
    "\n",
    "plt.title('Twitter Engagement Ratio Strategy Return Over Time')\n",
    "\n",
    "plt.gca().yaxis.set_major_formatter(mtick.PercentFormatter(1))\n",
    "\n",
    "plt.ylabel('Return')\n",
    "\n",
    "plt.show()"
   ]
  }
 ],
 "metadata": {
  "language_info": {
   "name": "python"
  }
 },
 "nbformat": 4,
 "nbformat_minor": 2
}
